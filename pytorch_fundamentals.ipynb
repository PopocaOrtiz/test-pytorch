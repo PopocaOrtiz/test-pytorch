{
  "nbformat": 4,
  "nbformat_minor": 0,
  "metadata": {
    "colab": {
      "provenance": []
    },
    "kernelspec": {
      "name": "python3",
      "display_name": "Python 3"
    },
    "language_info": {
      "name": "python"
    }
  },
  "cells": [
    {
      "cell_type": "markdown",
      "source": [
        "# PyTorch Fundamentals"
      ],
      "metadata": {
        "id": "KMqaYmztY4h1"
      }
    },
    {
      "cell_type": "code",
      "source": [
        "import torch\n",
        "print(torch.__version__)"
      ],
      "metadata": {
        "colab": {
          "base_uri": "https://localhost:8080/"
        },
        "id": "MJ3-qGC8Y96_",
        "outputId": "253534c6-f094-408a-b66d-2413bcb8fd45"
      },
      "execution_count": 2,
      "outputs": [
        {
          "output_type": "stream",
          "name": "stdout",
          "text": [
            "2.3.1+cu121\n"
          ]
        }
      ]
    },
    {
      "cell_type": "code",
      "source": [
        "# creating tensors\n",
        "\n",
        "## scalar\n",
        "\n",
        "scalar = torch.tensor(1290)\n",
        "\n",
        "scalar\n",
        "\n",
        "scalar.shape"
      ],
      "metadata": {
        "colab": {
          "base_uri": "https://localhost:8080/"
        },
        "id": "jIMWOxxrZB41",
        "outputId": "b4df3148-80eb-4f7f-b64d-bb02a6412de1"
      },
      "execution_count": 14,
      "outputs": [
        {
          "output_type": "execute_result",
          "data": {
            "text/plain": [
              "torch.Size([])"
            ]
          },
          "metadata": {},
          "execution_count": 14
        }
      ]
    },
    {
      "cell_type": "code",
      "source": [
        "scalar.ndim"
      ],
      "metadata": {
        "colab": {
          "base_uri": "https://localhost:8080/"
        },
        "id": "aucc-W6farxY",
        "outputId": "6e86fb77-b937-4d46-eb7a-46dd967cd89b"
      },
      "execution_count": 4,
      "outputs": [
        {
          "output_type": "execute_result",
          "data": {
            "text/plain": [
              "0"
            ]
          },
          "metadata": {},
          "execution_count": 4
        }
      ]
    },
    {
      "cell_type": "code",
      "source": [
        "## 1-dimension\n",
        "one_dimension = torch.tensor([1,2,3])\n",
        "one_dimension\n",
        "one_dimension.ndim\n",
        "list(one_dimension)\n",
        "one_dimension[2].item()\n",
        "one_dimension.shape"
      ],
      "metadata": {
        "colab": {
          "base_uri": "https://localhost:8080/"
        },
        "id": "ALRjaCcEbl2s",
        "outputId": "9a22a844-dee1-4b1e-8932-80e49f8586ba"
      },
      "execution_count": 16,
      "outputs": [
        {
          "output_type": "execute_result",
          "data": {
            "text/plain": [
              "torch.Size([3])"
            ]
          },
          "metadata": {},
          "execution_count": 16
        }
      ]
    },
    {
      "cell_type": "code",
      "source": [
        "## n-dimension\n",
        "\n",
        "n_dimension = torch.tensor([[1,2],[3,4]])\n",
        "print('shape', n_dimension.shape)\n",
        "print('first row', n_dimension[0])"
      ],
      "metadata": {
        "colab": {
          "base_uri": "https://localhost:8080/"
        },
        "id": "i9JNMscMb02x",
        "outputId": "f8247f4d-de82-4e2c-82fb-e040072dcc98"
      },
      "execution_count": 20,
      "outputs": [
        {
          "output_type": "stream",
          "name": "stdout",
          "text": [
            "shape torch.Size([2, 2])\n",
            "first row tensor([1, 2])\n"
          ]
        }
      ]
    },
    {
      "cell_type": "code",
      "source": [
        "n_dimension = torch.tensor([[1,2,3],[4,5]])"
      ],
      "metadata": {
        "id": "-gwfJVr9dCoU"
      },
      "execution_count": null,
      "outputs": []
    },
    {
      "cell_type": "markdown",
      "source": [
        "### random tensors"
      ],
      "metadata": {
        "id": "NLo7d_bEgMc3"
      }
    },
    {
      "cell_type": "code",
      "source": [
        "rdt = torch.rand(2,2,2)\n",
        "rdt"
      ],
      "metadata": {
        "colab": {
          "base_uri": "https://localhost:8080/"
        },
        "id": "Hoc--_RWhKa_",
        "outputId": "cdf85ec4-1022-48a8-9ab3-c27602c14939"
      },
      "execution_count": 24,
      "outputs": [
        {
          "output_type": "execute_result",
          "data": {
            "text/plain": [
              "tensor([[[0.0485, 0.6199],\n",
              "         [0.2914, 0.1417]],\n",
              "\n",
              "        [[0.0349, 0.2753],\n",
              "         [0.0092, 0.2249]]])"
            ]
          },
          "metadata": {},
          "execution_count": 24
        }
      ]
    },
    {
      "cell_type": "code",
      "source": [],
      "metadata": {
        "id": "E8KgZsPwhQBW"
      },
      "execution_count": null,
      "outputs": []
    }
  ]
}
