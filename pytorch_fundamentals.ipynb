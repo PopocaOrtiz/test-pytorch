{
  "nbformat": 4,
  "nbformat_minor": 0,
  "metadata": {
    "colab": {
      "provenance": [],
      "authorship_tag": "ABX9TyOz7hIxZGohXuNk7VqWAteY",
      "include_colab_link": true
    },
    "kernelspec": {
      "name": "python3",
      "display_name": "Python 3"
    },
    "language_info": {
      "name": "python"
    }
  },
  "cells": [
    {
      "cell_type": "markdown",
      "metadata": {
        "id": "view-in-github",
        "colab_type": "text"
      },
      "source": [
        "<a href=\"https://colab.research.google.com/github/PopocaOrtiz/test-pytorch/blob/main/pytorch_fundamentals.ipynb\" target=\"_parent\"><img src=\"https://colab.research.google.com/assets/colab-badge.svg\" alt=\"Open In Colab\"/></a>"
      ]
    },
    {
      "cell_type": "markdown",
      "source": [
        "# PyTorch Fundamentals"
      ],
      "metadata": {
        "id": "KMqaYmztY4h1"
      }
    },
    {
      "cell_type": "code",
      "source": [
        "import torch\n",
        "print(torch.__version__)"
      ],
      "metadata": {
        "colab": {
          "base_uri": "https://localhost:8080/"
        },
        "id": "MJ3-qGC8Y96_",
        "outputId": "253534c6-f094-408a-b66d-2413bcb8fd45"
      },
      "execution_count": null,
      "outputs": [
        {
          "output_type": "stream",
          "name": "stdout",
          "text": [
            "2.3.1+cu121\n"
          ]
        }
      ]
    },
    {
      "cell_type": "code",
      "source": [
        "# creating tensors\n",
        "\n",
        "## scalar\n",
        "\n",
        "scalar = torch.tensor(1290)\n",
        "\n",
        "scalar\n",
        "\n",
        "scalar.shape"
      ],
      "metadata": {
        "colab": {
          "base_uri": "https://localhost:8080/"
        },
        "id": "jIMWOxxrZB41",
        "outputId": "b4df3148-80eb-4f7f-b64d-bb02a6412de1"
      },
      "execution_count": null,
      "outputs": [
        {
          "output_type": "execute_result",
          "data": {
            "text/plain": [
              "torch.Size([])"
            ]
          },
          "metadata": {},
          "execution_count": 14
        }
      ]
    },
    {
      "cell_type": "code",
      "source": [
        "scalar.ndim"
      ],
      "metadata": {
        "colab": {
          "base_uri": "https://localhost:8080/"
        },
        "id": "aucc-W6farxY",
        "outputId": "6e86fb77-b937-4d46-eb7a-46dd967cd89b"
      },
      "execution_count": null,
      "outputs": [
        {
          "output_type": "execute_result",
          "data": {
            "text/plain": [
              "0"
            ]
          },
          "metadata": {},
          "execution_count": 4
        }
      ]
    },
    {
      "cell_type": "code",
      "source": [
        "## 1-dimension\n",
        "one_dimension = torch.tensor([1,2,3])\n",
        "one_dimension\n",
        "one_dimension.ndim\n",
        "list(one_dimension)\n",
        "one_dimension[2].item()\n",
        "one_dimension.shape"
      ],
      "metadata": {
        "colab": {
          "base_uri": "https://localhost:8080/"
        },
        "id": "ALRjaCcEbl2s",
        "outputId": "9a22a844-dee1-4b1e-8932-80e49f8586ba"
      },
      "execution_count": null,
      "outputs": [
        {
          "output_type": "execute_result",
          "data": {
            "text/plain": [
              "torch.Size([3])"
            ]
          },
          "metadata": {},
          "execution_count": 16
        }
      ]
    },
    {
      "cell_type": "code",
      "source": [
        "## n-dimension\n",
        "\n",
        "n_dimension = torch.tensor([[1,2],[3,4]])\n",
        "print('shape', n_dimension.shape)\n",
        "print('first row', n_dimension[0])"
      ],
      "metadata": {
        "colab": {
          "base_uri": "https://localhost:8080/"
        },
        "id": "i9JNMscMb02x",
        "outputId": "f8247f4d-de82-4e2c-82fb-e040072dcc98"
      },
      "execution_count": null,
      "outputs": [
        {
          "output_type": "stream",
          "name": "stdout",
          "text": [
            "shape torch.Size([2, 2])\n",
            "first row tensor([1, 2])\n"
          ]
        }
      ]
    },
    {
      "cell_type": "code",
      "source": [
        "n_dimension = torch.tensor([[1,2,3],[4,5]])"
      ],
      "metadata": {
        "id": "-gwfJVr9dCoU"
      },
      "execution_count": null,
      "outputs": []
    },
    {
      "cell_type": "markdown",
      "source": [
        "### random tensors"
      ],
      "metadata": {
        "id": "NLo7d_bEgMc3"
      }
    },
    {
      "cell_type": "code",
      "source": [
        "rdt = torch.rand(2,2,2)\n",
        "rdt"
      ],
      "metadata": {
        "colab": {
          "base_uri": "https://localhost:8080/"
        },
        "id": "Hoc--_RWhKa_",
        "outputId": "cdf85ec4-1022-48a8-9ab3-c27602c14939"
      },
      "execution_count": null,
      "outputs": [
        {
          "output_type": "execute_result",
          "data": {
            "text/plain": [
              "tensor([[[0.0485, 0.6199],\n",
              "         [0.2914, 0.1417]],\n",
              "\n",
              "        [[0.0349, 0.2753],\n",
              "         [0.0092, 0.2249]]])"
            ]
          },
          "metadata": {},
          "execution_count": 24
        }
      ]
    },
    {
      "cell_type": "code",
      "source": [],
      "metadata": {
        "id": "E8KgZsPwhQBW"
      },
      "execution_count": null,
      "outputs": []
    },
    {
      "cell_type": "markdown",
      "source": [
        "# Creating tensors using range"
      ],
      "metadata": {
        "id": "dMZgMaqNjJ6P"
      }
    },
    {
      "cell_type": "code",
      "source": [
        "import torch\n",
        "one_hundred = torch.arange(1,101, step=5)\n",
        "one_hundred"
      ],
      "metadata": {
        "colab": {
          "base_uri": "https://localhost:8080/"
        },
        "id": "jRr8UDsTjPBH",
        "outputId": "0c38c571-2be5-4312-9d55-7ca6007cef1b"
      },
      "execution_count": 3,
      "outputs": [
        {
          "output_type": "execute_result",
          "data": {
            "text/plain": [
              "tensor([ 1,  6, 11, 16, 21, 26, 31, 36, 41, 46, 51, 56, 61, 66, 71, 76, 81, 86,\n",
              "        91, 96])"
            ]
          },
          "metadata": {},
          "execution_count": 3
        }
      ]
    },
    {
      "cell_type": "code",
      "source": [],
      "metadata": {
        "id": "d1rrWUeijiuu"
      },
      "execution_count": null,
      "outputs": []
    },
    {
      "cell_type": "markdown",
      "source": [
        "# Creating tensors using other tensors' shapte"
      ],
      "metadata": {
        "id": "MdGztyqnkRo7"
      }
    },
    {
      "cell_type": "code",
      "source": [
        "one_hundred_zeros = torch.zeros_like(input=one_hundred)\n",
        "one_hundred_zeros"
      ],
      "metadata": {
        "colab": {
          "base_uri": "https://localhost:8080/"
        },
        "id": "k9Epgex7kXrE",
        "outputId": "11daf690-a5e6-439d-a9c3-d81ab20e5615"
      },
      "execution_count": 5,
      "outputs": [
        {
          "output_type": "execute_result",
          "data": {
            "text/plain": [
              "tensor([0, 0, 0, 0, 0, 0, 0, 0, 0, 0, 0, 0, 0, 0, 0, 0, 0, 0, 0, 0])"
            ]
          },
          "metadata": {},
          "execution_count": 5
        }
      ]
    },
    {
      "cell_type": "markdown",
      "source": [
        "# Tensor datatypes"
      ],
      "metadata": {
        "id": "tudtFmTZkkeS"
      }
    },
    {
      "cell_type": "code",
      "source": [
        "assert torch.int64 == torch.tensor([1,2,3]).dtype\n",
        "assert torch.float32 == torch.tensor([1.,2.,3.]).dtype"
      ],
      "metadata": {
        "id": "D655DAUskj9w"
      },
      "execution_count": 11,
      "outputs": []
    },
    {
      "cell_type": "code",
      "source": [
        "# changing the type\n",
        "float32_tensor = torch.tensor([1.,2.,3.])\n",
        "print(float32_tensor)\n",
        "float16_tensor = float32_tensor.type(torch.half)\n",
        "print(float16_tensor)\n",
        "print(float16_tensor.dtype)"
      ],
      "metadata": {
        "colab": {
          "base_uri": "https://localhost:8080/"
        },
        "id": "3mbk071S0iWI",
        "outputId": "7b5d8d48-80be-4d3f-da12-8db5a245d00f"
      },
      "execution_count": 16,
      "outputs": [
        {
          "output_type": "stream",
          "name": "stdout",
          "text": [
            "tensor([1., 2., 3.])\n",
            "tensor([1., 2., 3.], dtype=torch.float16)\n",
            "torch.float16\n"
          ]
        }
      ]
    },
    {
      "cell_type": "code",
      "source": [
        "torch.tensor([1, 2, 3]) * torch.tensor([2., 2.0, 2.0])"
      ],
      "metadata": {
        "colab": {
          "base_uri": "https://localhost:8080/"
        },
        "id": "jXgZ2Ms53HxJ",
        "outputId": "2b02e2ca-6c91-482a-a891-ed8783890b84"
      },
      "execution_count": 18,
      "outputs": [
        {
          "output_type": "execute_result",
          "data": {
            "text/plain": [
              "tensor([2., 4., 6.])"
            ]
          },
          "metadata": {},
          "execution_count": 18
        }
      ]
    },
    {
      "cell_type": "code",
      "source": [
        "torch.tensor([1, 2, 3], dtype=torch.int64) * torch.tensor([1., 2., 3.], dtype=torch.half)"
      ],
      "metadata": {
        "colab": {
          "base_uri": "https://localhost:8080/"
        },
        "id": "r-NfpxXx3wvw",
        "outputId": "e6cf1fd0-5f75-4ebe-99ef-59b3e346f39e"
      },
      "execution_count": 20,
      "outputs": [
        {
          "output_type": "execute_result",
          "data": {
            "text/plain": [
              "tensor([1., 4., 9.], dtype=torch.float16)"
            ]
          },
          "metadata": {},
          "execution_count": 20
        }
      ]
    },
    {
      "cell_type": "markdown",
      "source": [
        "# Manipulating tensors"
      ],
      "metadata": {
        "id": "PCPlRODA6-B9"
      }
    },
    {
      "cell_type": "markdown",
      "source": [],
      "metadata": {
        "id": "3jVU5J8C4xAY"
      }
    },
    {
      "cell_type": "code",
      "source": [
        "print(torch.tensor([1., 2., 3.]) + 10)\n",
        "print(torch.tensor([1., 2., 3.]) + torch.tensor(10))\n",
        "print(torch.tensor([1., 2., 3.]) + torch.tensor([10, 10, 10]))"
      ],
      "metadata": {
        "colab": {
          "base_uri": "https://localhost:8080/"
        },
        "id": "PGED6c3p7CRB",
        "outputId": "f495c74c-56f8-4c87-8372-63d816274368"
      },
      "execution_count": 24,
      "outputs": [
        {
          "output_type": "stream",
          "name": "stdout",
          "text": [
            "tensor([11., 12., 13.])\n",
            "tensor([11., 12., 13.])\n",
            "tensor([11., 12., 13.])\n"
          ]
        }
      ]
    },
    {
      "cell_type": "code",
      "source": [
        "import torch\n",
        "torch.matmul(torch.tensor([[1,2,3],[4,5,6]]), torch.tensor([[7,8],[9,10],[11,12]]))"
      ],
      "metadata": {
        "colab": {
          "base_uri": "https://localhost:8080/"
        },
        "id": "3PFbgN3q7Cec",
        "outputId": "4f267e1e-7aae-405f-a645-9421399ac1a2"
      },
      "execution_count": 4,
      "outputs": [
        {
          "output_type": "execute_result",
          "data": {
            "text/plain": [
              "tensor([[ 58,  64],\n",
              "        [139, 154]])"
            ]
          },
          "metadata": {},
          "execution_count": 4
        }
      ]
    },
    {
      "cell_type": "markdown",
      "source": [
        "# manual vector dot product\n",
        "- checking the time"
      ],
      "metadata": {
        "id": "2TQZHo3qNuVd"
      }
    },
    {
      "cell_type": "code",
      "source": [
        "%%time\n",
        "value = 0\n",
        "tensor = torch.tensor([1,2,3])\n",
        "for x in range(len(tensor)):\n",
        "  value += tensor[x]\n",
        "print(value)"
      ],
      "metadata": {
        "colab": {
          "base_uri": "https://localhost:8080/"
        },
        "id": "seST7IR23XiF",
        "outputId": "a6b84186-fcbd-4414-b7ee-a13f7c653e62"
      },
      "execution_count": 7,
      "outputs": [
        {
          "output_type": "stream",
          "name": "stdout",
          "text": [
            "tensor(6)\n",
            "CPU times: user 4.61 ms, sys: 141 µs, total: 4.75 ms\n",
            "Wall time: 17.8 ms\n"
          ]
        }
      ]
    },
    {
      "cell_type": "code",
      "source": [
        "torch.rand(1,1,1)"
      ],
      "metadata": {
        "colab": {
          "base_uri": "https://localhost:8080/"
        },
        "id": "uC3Kfzt_5mNO",
        "outputId": "7a56545c-a488-41f4-e113-69e57f90e09e"
      },
      "execution_count": 14,
      "outputs": [
        {
          "output_type": "execute_result",
          "data": {
            "text/plain": [
              "tensor([[[0.0308]]])"
            ]
          },
          "metadata": {},
          "execution_count": 14
        }
      ]
    },
    {
      "cell_type": "markdown",
      "source": [
        "# matrix multiplication"
      ],
      "metadata": {
        "id": "c_eXTee7NdxY"
      }
    },
    {
      "cell_type": "code",
      "source": [
        "mat1 = torch.rand(2,3)\n",
        "mat2 = torch.rand(3,2)\n",
        "print(mat1.shape)\n",
        "print(mat1)\n",
        "print(mat2.shape)\n",
        "print(mat2)\n",
        "rest = mat1 @ mat2\n",
        "print(rest)"
      ],
      "metadata": {
        "colab": {
          "base_uri": "https://localhost:8080/"
        },
        "id": "xFOWpNns7Esy",
        "outputId": "b7fd2655-3a8d-4fe9-9031-90133ff59f0b"
      },
      "execution_count": 19,
      "outputs": [
        {
          "output_type": "stream",
          "name": "stdout",
          "text": [
            "torch.Size([2, 3])\n",
            "tensor([[0.6730, 0.0908, 0.9645],\n",
            "        [0.4370, 0.6787, 0.7835]])\n",
            "torch.Size([3, 2])\n",
            "tensor([[0.7316, 0.9213],\n",
            "        [0.2907, 0.0754],\n",
            "        [0.9901, 0.6031]])\n",
            "tensor([[1.4737, 1.2085],\n",
            "        [1.2927, 0.9263]])\n"
          ]
        }
      ]
    },
    {
      "cell_type": "markdown",
      "source": [
        "## using transpose so the matrix multiplication *works*"
      ],
      "metadata": {
        "id": "iUTTblQoNlYH"
      }
    },
    {
      "cell_type": "code",
      "source": [
        "# using transpose so the dimensions fit\n",
        "torch.mm(torch.rand(3,2), torch.rand(3,2).T)"
      ],
      "metadata": {
        "colab": {
          "base_uri": "https://localhost:8080/"
        },
        "id": "S2V-WhPo7LG9",
        "outputId": "07d8b957-d1cb-491c-c3e5-af77f7a52fb1"
      },
      "execution_count": 22,
      "outputs": [
        {
          "output_type": "execute_result",
          "data": {
            "text/plain": [
              "tensor([[0.6101, 0.7480, 1.0710],\n",
              "        [0.4374, 0.5954, 0.8384],\n",
              "        [0.3799, 0.4369, 0.6325]])"
            ]
          },
          "metadata": {},
          "execution_count": 22
        }
      ]
    },
    {
      "cell_type": "markdown",
      "source": [
        "\n",
        "\n"
      ],
      "metadata": {
        "id": "bau688YCMxnA"
      }
    },
    {
      "cell_type": "code",
      "source": [
        "tensor = torch.rand(2,4)\n",
        "\n",
        "print(tensor)\n",
        "\n",
        "res = torch.matmul(tensor, tensor.T)\n",
        "\n",
        "print(res)"
      ],
      "metadata": {
        "colab": {
          "base_uri": "https://localhost:8080/"
        },
        "id": "soCmnov9AICA",
        "outputId": "2ef44b62-be33-4e9e-a7c9-8e3ce8b5e7ea"
      },
      "execution_count": 28,
      "outputs": [
        {
          "output_type": "stream",
          "name": "stdout",
          "text": [
            "tensor([[0.3911, 0.8662, 0.7738, 0.2741],\n",
            "        [0.0714, 0.2870, 0.0598, 0.0579]])\n",
            "tensor([[1.5771, 0.3387],\n",
            "        [0.3387, 0.0944]])\n"
          ]
        }
      ]
    },
    {
      "cell_type": "markdown",
      "source": [
        "# fint the min an max"
      ],
      "metadata": {
        "id": "Q1M40AbFM0_E"
      }
    },
    {
      "cell_type": "code",
      "source": [
        "# agregations (from a lot of numbers to less numbers)\n",
        "tensor = torch.tensor([\n",
        "    [1,2,3],\n",
        "    [4,5,6],\n",
        "    [7,8,9]\n",
        "])\n",
        "\n",
        "print(tensor.min(), torch.min(tensor))"
      ],
      "metadata": {
        "colab": {
          "base_uri": "https://localhost:8080/"
        },
        "id": "1NGgswe4A9dV",
        "outputId": "68e109fe-b0a2-45c2-9d6a-993d9685e657"
      },
      "execution_count": 29,
      "outputs": [
        {
          "output_type": "stream",
          "name": "stdout",
          "text": [
            "tensor(1) tensor(1)\n"
          ]
        }
      ]
    },
    {
      "cell_type": "code",
      "source": [
        "print(tensor[1].max())"
      ],
      "metadata": {
        "colab": {
          "base_uri": "https://localhost:8080/"
        },
        "id": "1cq3owV3DnLK",
        "outputId": "e28e7800-ffec-41fc-efc0-4e874934729f"
      },
      "execution_count": 32,
      "outputs": [
        {
          "output_type": "stream",
          "name": "stdout",
          "text": [
            "tensor(6)\n"
          ]
        }
      ]
    },
    {
      "cell_type": "markdown",
      "source": [
        "# calculate the mean\n",
        "*requires changing the dtype if its an integer*"
      ],
      "metadata": {
        "id": "S7Qxwo8iM7-T"
      }
    },
    {
      "cell_type": "code",
      "source": [
        "import torch\n",
        "tensor = torch.tensor([1,2,3,0,10,2])\n",
        "print('mean', tensor.type(torch.float32).mean())\n",
        "\n",
        "for i,x in enumerate(tensor):\n",
        "  print(i,x)"
      ],
      "metadata": {
        "colab": {
          "base_uri": "https://localhost:8080/"
        },
        "id": "k_FKWA8eDq-l",
        "outputId": "15bb4996-b7e5-41fb-c269-5f4be9873a37"
      },
      "execution_count": 8,
      "outputs": [
        {
          "output_type": "stream",
          "name": "stdout",
          "text": [
            "mean tensor(3.)\n",
            "0 tensor(1)\n",
            "1 tensor(2)\n",
            "2 tensor(3)\n",
            "3 tensor(0)\n",
            "4 tensor(10)\n",
            "5 tensor(2)\n"
          ]
        }
      ]
    },
    {
      "cell_type": "markdown",
      "source": [
        "# Index of min and max"
      ],
      "metadata": {
        "id": "q11XEM6nCXed"
      }
    },
    {
      "cell_type": "code",
      "source": [
        "tensor.argmin()"
      ],
      "metadata": {
        "colab": {
          "base_uri": "https://localhost:8080/"
        },
        "id": "XbXlo3StEDax",
        "outputId": "a83c8c7f-3e50-4685-b7fc-07d5df56f8d3"
      },
      "execution_count": 5,
      "outputs": [
        {
          "output_type": "execute_result",
          "data": {
            "text/plain": [
              "tensor(3)"
            ]
          },
          "metadata": {},
          "execution_count": 5
        }
      ]
    },
    {
      "cell_type": "code",
      "source": [
        "tensor.argmax()"
      ],
      "metadata": {
        "colab": {
          "base_uri": "https://localhost:8080/"
        },
        "id": "4frROSfHCRex",
        "outputId": "2036c1f6-6d39-4b31-cbda-704921d00433"
      },
      "execution_count": 6,
      "outputs": [
        {
          "output_type": "execute_result",
          "data": {
            "text/plain": [
              "tensor(4)"
            ]
          },
          "metadata": {},
          "execution_count": 6
        }
      ]
    },
    {
      "cell_type": "markdown",
      "source": [
        "# reshape"
      ],
      "metadata": {
        "id": "hBbAo_jhNE1F"
      }
    },
    {
      "cell_type": "code",
      "source": [
        "tensor = torch.arange(0, 100, 10)\n",
        "print(tensor)\n",
        "print(tensor.shape)\n",
        "\n",
        "# adds a dimension on the outside\n",
        "print(tensor.reshape(1, 10))\n",
        "# adds a dimension on the inside\n",
        "print(tensor.reshape(10, 1))\n",
        "\n",
        "# separate the tensor in diferent tensors (something like explode?)\n",
        "print(tensor.reshape(5, 2))"
      ],
      "metadata": {
        "colab": {
          "base_uri": "https://localhost:8080/"
        },
        "id": "g0wJn7RMCVpL",
        "outputId": "bde02976-731f-474a-d680-5a5a967f401f"
      },
      "execution_count": 22,
      "outputs": [
        {
          "output_type": "stream",
          "name": "stdout",
          "text": [
            "tensor([ 0, 10, 20, 30, 40, 50, 60, 70, 80, 90])\n",
            "torch.Size([10])\n",
            "tensor([[ 0, 10, 20, 30, 40, 50, 60, 70, 80, 90]])\n",
            "tensor([[ 0],\n",
            "        [10],\n",
            "        [20],\n",
            "        [30],\n",
            "        [40],\n",
            "        [50],\n",
            "        [60],\n",
            "        [70],\n",
            "        [80],\n",
            "        [90]])\n",
            "tensor([[ 0, 10],\n",
            "        [20, 30],\n",
            "        [40, 50],\n",
            "        [60, 70],\n",
            "        [80, 90]])\n"
          ]
        }
      ]
    },
    {
      "cell_type": "code",
      "source": [
        "tensor = torch.arange(0, 27, 3)\n",
        "print(tensor)\n",
        "print(tensor.reshape(3,3))"
      ],
      "metadata": {
        "colab": {
          "base_uri": "https://localhost:8080/"
        },
        "id": "BV7AvwvAEoec",
        "outputId": "9bd7aa66-2206-4e69-83d6-413c82118645"
      },
      "execution_count": 26,
      "outputs": [
        {
          "output_type": "stream",
          "name": "stdout",
          "text": [
            "tensor([ 0,  3,  6,  9, 12, 15, 18, 21, 24])\n",
            "tensor([[ 0,  3,  6],\n",
            "        [ 9, 12, 15],\n",
            "        [18, 21, 24]])\n"
          ]
        }
      ]
    },
    {
      "cell_type": "markdown",
      "source": [
        "# Views\n",
        "*views share the same memory*"
      ],
      "metadata": {
        "id": "x0D-ZDYrJFxb"
      }
    },
    {
      "cell_type": "code",
      "source": [
        "tensor9 = torch.rand(12).view(4,3)\n",
        "print(tensor9)\n",
        "tensor9[:,0] = 7\n",
        "tensor9[1,:] = 3\n",
        "print(tensor9)"
      ],
      "metadata": {
        "colab": {
          "base_uri": "https://localhost:8080/"
        },
        "id": "7uiTsdohFsUQ",
        "outputId": "20e95194-aa8e-416a-8df3-e6a340a4f6c6"
      },
      "execution_count": 41,
      "outputs": [
        {
          "output_type": "stream",
          "name": "stdout",
          "text": [
            "tensor([[0.2072, 0.4212, 0.0269],\n",
            "        [0.5948, 0.3892, 0.8186],\n",
            "        [0.8118, 0.4736, 0.1606],\n",
            "        [0.9915, 0.5404, 0.9787]])\n",
            "tensor([[7.0000, 0.4212, 0.0269],\n",
            "        [3.0000, 3.0000, 3.0000],\n",
            "        [7.0000, 0.4736, 0.1606],\n",
            "        [7.0000, 0.5404, 0.9787]])\n"
          ]
        }
      ]
    },
    {
      "cell_type": "markdown",
      "source": [
        "# stacks"
      ],
      "metadata": {
        "id": "u6g-BfnxNIYT"
      }
    },
    {
      "cell_type": "code",
      "source": [
        "# Stacking tensors\n",
        "tensor = torch.rand(3)\n",
        "stacked = torch.stack([tensor, tensor, tensor], dim=0)\n",
        "print(stacked)\n",
        "stacked[1][1] = 0.3333\n",
        "print(stacked)\n",
        "\n",
        "# stacked with changed dimensions\n",
        "tensor = torch.rand(6)\n",
        "print(tensor)\n",
        "stacked = torch.stack([tensor, tensor], dim=1)\n",
        "print(stacked)"
      ],
      "metadata": {
        "colab": {
          "base_uri": "https://localhost:8080/"
        },
        "id": "dQMBzPLXFrni",
        "outputId": "c7e5b3f4-f8b2-4adc-8076-d1ea49a658ff"
      },
      "execution_count": 53,
      "outputs": [
        {
          "output_type": "stream",
          "name": "stdout",
          "text": [
            "tensor([[0.0743, 0.6703, 0.9137],\n",
            "        [0.0743, 0.6703, 0.9137],\n",
            "        [0.0743, 0.6703, 0.9137]])\n",
            "tensor([[0.0743, 0.6703, 0.9137],\n",
            "        [0.0743, 0.3333, 0.9137],\n",
            "        [0.0743, 0.6703, 0.9137]])\n",
            "tensor([0.7156, 0.6520, 0.6669, 0.6058, 0.1281, 0.4281])\n",
            "tensor([[0.7156, 0.7156],\n",
            "        [0.6520, 0.6520],\n",
            "        [0.6669, 0.6669],\n",
            "        [0.6058, 0.6058],\n",
            "        [0.1281, 0.1281],\n",
            "        [0.4281, 0.4281]])\n"
          ]
        }
      ]
    },
    {
      "cell_type": "code",
      "source": [
        "tensor = torch.rand(3)\n",
        "print(tensor)\n",
        "stacked = torch.stack([tensor, tensor, tensor], dim=1)\n",
        "print(stacked)\n",
        "stacked = torch.vstack([tensor, tensor, tensor])\n",
        "print(stacked)\n",
        "print()\n",
        "\n",
        "# horizontal\n",
        "stacked = torch.hstack([tensor, tensor, tensor])\n",
        "print(stacked)"
      ],
      "metadata": {
        "colab": {
          "base_uri": "https://localhost:8080/"
        },
        "id": "RaNpwsiyJJ2W",
        "outputId": "17b0cace-51fc-4e58-8322-11e0d239d0fb"
      },
      "execution_count": 62,
      "outputs": [
        {
          "output_type": "stream",
          "name": "stdout",
          "text": [
            "tensor([0.7547, 0.1431, 0.5759])\n",
            "tensor([[0.7547, 0.7547, 0.7547],\n",
            "        [0.1431, 0.1431, 0.1431],\n",
            "        [0.5759, 0.5759, 0.5759]])\n",
            "tensor([[0.7547, 0.1431, 0.5759],\n",
            "        [0.7547, 0.1431, 0.5759],\n",
            "        [0.7547, 0.1431, 0.5759]])\n",
            "\n",
            "tensor([0.7547, 0.1431, 0.5759, 0.7547, 0.1431, 0.5759, 0.7547, 0.1431, 0.5759])\n"
          ]
        }
      ]
    },
    {
      "cell_type": "markdown",
      "source": [
        "# Squeeze: removes dimensions of size=1"
      ],
      "metadata": {
        "id": "wWvKWhvaMamL"
      }
    },
    {
      "cell_type": "code",
      "source": [
        "tensor = torch.arange(0, 16).reshape(4,4)\n",
        "print(tensor)\n",
        "tensor = torch.stack([tensor])\n",
        "print(tensor, tensor.shape)\n",
        "tensor = torch.squeeze(tensor)\n",
        "print(tensor, tensor.shape)"
      ],
      "metadata": {
        "colab": {
          "base_uri": "https://localhost:8080/"
        },
        "id": "UZOHpDp5Kv9j",
        "outputId": "42a55a26-e04d-4321-e770-3c09b87e64f0"
      },
      "execution_count": 67,
      "outputs": [
        {
          "output_type": "stream",
          "name": "stdout",
          "text": [
            "tensor([[ 0,  1,  2,  3],\n",
            "        [ 4,  5,  6,  7],\n",
            "        [ 8,  9, 10, 11],\n",
            "        [12, 13, 14, 15]])\n",
            "tensor([[[ 0,  1,  2,  3],\n",
            "         [ 4,  5,  6,  7],\n",
            "         [ 8,  9, 10, 11],\n",
            "         [12, 13, 14, 15]]]) torch.Size([1, 4, 4])\n",
            "tensor([[ 0,  1,  2,  3],\n",
            "        [ 4,  5,  6,  7],\n",
            "        [ 8,  9, 10, 11],\n",
            "        [12, 13, 14, 15]]) torch.Size([4, 4])\n"
          ]
        }
      ]
    },
    {
      "cell_type": "markdown",
      "source": [
        "# unsqueeze"
      ],
      "metadata": {
        "id": "fFDJECtAPRvg"
      }
    },
    {
      "cell_type": "code",
      "source": [
        "tensor = torch.arange(0, 27).reshape(3,3,3)\n",
        "print(tensor)\n",
        "unsqueeze = tensor.unsqueeze(3)\n",
        "print(unsqueeze)"
      ],
      "metadata": {
        "colab": {
          "base_uri": "https://localhost:8080/"
        },
        "id": "8_9sdQPEL5F_",
        "outputId": "f0355792-30a9-4cf6-94da-1d460dfd59f5"
      },
      "execution_count": 80,
      "outputs": [
        {
          "output_type": "stream",
          "name": "stdout",
          "text": [
            "tensor([[[ 0,  1,  2],\n",
            "         [ 3,  4,  5],\n",
            "         [ 6,  7,  8]],\n",
            "\n",
            "        [[ 9, 10, 11],\n",
            "         [12, 13, 14],\n",
            "         [15, 16, 17]],\n",
            "\n",
            "        [[18, 19, 20],\n",
            "         [21, 22, 23],\n",
            "         [24, 25, 26]]])\n",
            "tensor([[[[ 0],\n",
            "          [ 1],\n",
            "          [ 2]],\n",
            "\n",
            "         [[ 3],\n",
            "          [ 4],\n",
            "          [ 5]],\n",
            "\n",
            "         [[ 6],\n",
            "          [ 7],\n",
            "          [ 8]]],\n",
            "\n",
            "\n",
            "        [[[ 9],\n",
            "          [10],\n",
            "          [11]],\n",
            "\n",
            "         [[12],\n",
            "          [13],\n",
            "          [14]],\n",
            "\n",
            "         [[15],\n",
            "          [16],\n",
            "          [17]]],\n",
            "\n",
            "\n",
            "        [[[18],\n",
            "          [19],\n",
            "          [20]],\n",
            "\n",
            "         [[21],\n",
            "          [22],\n",
            "          [23]],\n",
            "\n",
            "         [[24],\n",
            "          [25],\n",
            "          [26]]]])\n"
          ]
        }
      ]
    },
    {
      "cell_type": "markdown",
      "source": [
        "# permute\n",
        "*rearranges the dimensions*\n",
        "*its also a view*"
      ],
      "metadata": {
        "id": "Z2jVDQPHQQo_"
      }
    },
    {
      "cell_type": "code",
      "source": [
        "x = torch.rand(2,3,4)\n",
        "print(x.shape)\n",
        "print(x.size())\n",
        "print(x)\n",
        "\n",
        "print()\n",
        "\n",
        "y = torch.permute(x, (2,0,1))\n",
        "print(y.shape)\n",
        "print(y)"
      ],
      "metadata": {
        "colab": {
          "base_uri": "https://localhost:8080/"
        },
        "id": "JKeHkFFdPtUs",
        "outputId": "a61e3276-38d0-4927-fa49-3b3e0b718490"
      },
      "execution_count": 85,
      "outputs": [
        {
          "output_type": "stream",
          "name": "stdout",
          "text": [
            "torch.Size([2, 3, 4])\n",
            "torch.Size([2, 3, 4])\n",
            "tensor([[[0.5027, 0.8188, 0.3000, 0.6320],\n",
            "         [0.2732, 0.7008, 0.1501, 0.5342],\n",
            "         [0.8264, 0.0485, 0.1937, 0.5420]],\n",
            "\n",
            "        [[0.8590, 0.4347, 0.2954, 0.3936],\n",
            "         [0.7198, 0.1789, 0.7446, 0.6528],\n",
            "         [0.7667, 0.0342, 0.0884, 0.8327]]])\n",
            "\n",
            "torch.Size([4, 2, 3])\n",
            "tensor([[[0.5027, 0.2732, 0.8264],\n",
            "         [0.8590, 0.7198, 0.7667]],\n",
            "\n",
            "        [[0.8188, 0.7008, 0.0485],\n",
            "         [0.4347, 0.1789, 0.0342]],\n",
            "\n",
            "        [[0.3000, 0.1501, 0.1937],\n",
            "         [0.2954, 0.7446, 0.0884]],\n",
            "\n",
            "        [[0.6320, 0.5342, 0.5420],\n",
            "         [0.3936, 0.6528, 0.8327]]])\n"
          ]
        }
      ]
    },
    {
      "cell_type": "code",
      "source": [
        "# manually iterating\n",
        "\n",
        "tensor = torch.arange(0, 27*3, 3).reshape(3,3,3)\n",
        "print(tensor)\n",
        "for i in range(len(tensor)):\n",
        "  for j in range(len(tensor[i])):\n",
        "    for k in range(len(tensor[i][j])):\n",
        "      print(tensor[i, j, k])\n"
      ],
      "metadata": {
        "colab": {
          "base_uri": "https://localhost:8080/"
        },
        "id": "mEnTyF_0Qiiw",
        "outputId": "c11d37e4-4e60-443c-8312-46799d81c684"
      },
      "execution_count": 90,
      "outputs": [
        {
          "output_type": "stream",
          "name": "stdout",
          "text": [
            "tensor([[[ 0,  3,  6],\n",
            "         [ 9, 12, 15],\n",
            "         [18, 21, 24]],\n",
            "\n",
            "        [[27, 30, 33],\n",
            "         [36, 39, 42],\n",
            "         [45, 48, 51]],\n",
            "\n",
            "        [[54, 57, 60],\n",
            "         [63, 66, 69],\n",
            "         [72, 75, 78]]])\n",
            "tensor(0)\n",
            "tensor(3)\n",
            "tensor(6)\n",
            "tensor(9)\n",
            "tensor(12)\n",
            "tensor(15)\n",
            "tensor(18)\n",
            "tensor(21)\n",
            "tensor(24)\n",
            "tensor(27)\n",
            "tensor(30)\n",
            "tensor(33)\n",
            "tensor(36)\n",
            "tensor(39)\n",
            "tensor(42)\n",
            "tensor(45)\n",
            "tensor(48)\n",
            "tensor(51)\n",
            "tensor(54)\n",
            "tensor(57)\n",
            "tensor(60)\n",
            "tensor(63)\n",
            "tensor(66)\n",
            "tensor(69)\n",
            "tensor(72)\n",
            "tensor(75)\n",
            "tensor(78)\n"
          ]
        }
      ]
    },
    {
      "cell_type": "markdown",
      "source": [
        "# Reproducibility\n",
        "*reduce randomness in neural networks*\n",
        "- uses a **random seed**"
      ],
      "metadata": {
        "id": "dgWpb8j_YYE0"
      }
    },
    {
      "cell_type": "code",
      "source": [],
      "metadata": {
        "id": "8CJ-9xNySWKy"
      },
      "execution_count": null,
      "outputs": []
    }
  ]
}